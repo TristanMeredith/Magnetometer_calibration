{
 "cells": [
  {
   "cell_type": "code",
   "execution_count": 1,
   "metadata": {
    "collapsed": false
   },
   "outputs": [],
   "source": [
    "#Check out http://moderndata.plot.ly/widgets-in-ipython-notebook-and-plotly/#sliders-and-fractals\n",
    "from IPython.display import Image, display\n",
    "from IPython.core.display import HTML \n",
    "#from IPython.display import HTML\n",
    "Image(url= \"http://my_site.com/my_picture.jpg\")\n",
    "import numpy as np\n",
    "import matplotlib.pyplot as plt\n",
    "from matplotlib import animation, rc\n",
    "from mpl_toolkits.mplot3d.axes3d import Axes3D\n",
    "from scipy import optimize\n",
    "    "
   ]
  },
  {
   "cell_type": "code",
   "execution_count": 12,
   "metadata": {
    "collapsed": false
   },
   "outputs": [
    {
     "data": {
      "text/html": [
       "<img src=\"https://thumbs.gfycat.com/PolishedTemptingGopher-size_restricted.gif\"/>"
      ],
      "text/plain": [
       "<IPython.core.display.Image object>"
      ]
     },
     "execution_count": 12,
     "metadata": {},
     "output_type": "execute_result"
    }
   ],
   "source": [
    "Image(url= \"https://thumbs.gfycat.com/PolishedTemptingGopher-size_restricted.gif\")"
   ]
  },
  {
   "cell_type": "markdown",
   "metadata": {},
   "source": [
    "![Image of Yaktocat](https://thumbs.gfycat.com/PolishedTemptingGopher-size_restricted.gif)"
   ]
  },
  {
   "cell_type": "code",
   "execution_count": 3,
   "metadata": {
    "collapsed": true
   },
   "outputs": [],
   "source": [
    "#make unit circle\n",
    "npts_fit = 1000\n",
    "rad_fit = np.arange(npts_fit)*2*np.pi/(npts_fit)\n",
    "xunit = np.cos(rad_fit)\n",
    "yunit = np.sin(rad_fit)\n",
    "\n",
    "#make grid\n",
    "ngrid = 4\n",
    "p = (np.arange(ngrid+1)-ngrid/2.)*2./ngrid\n",
    "q = np.array([-1,1])\n"
   ]
  },
  {
   "cell_type": "markdown",
   "metadata": {},
   "source": [
    "## 2-Axis Skew with Symmetric Matrix\n",
    "\n",
    "Animation with multiple lines plotted using an animation function to return the new position of plotted objects."
   ]
  },
  {
   "cell_type": "code",
   "execution_count": 4,
   "metadata": {
    "collapsed": false
   },
   "outputs": [],
   "source": [
    "fig = plt.figure()\n",
    "ax1 = plt.axes(xlim=(-1.5,1.5), ylim=(-1.5,1.5), aspect='equal')\n",
    "ngrid = 4\n",
    "npts = 1000\n",
    "x_noise = np.random.normal(0,0.05,npts)\n",
    "y_noise = np.random.normal(0,0.05,npts)\n",
    "\n",
    "lines = []\n",
    "#Skew grid lines\n",
    "for index in range((ngrid+1)*2):\n",
    "    lobj = ax1.plot([],[],lw=.5,color='b')[0]\n",
    "    lines.append(lobj)\n",
    "#circle\n",
    "lines.append(ax1.plot([],[],lw=1,color='b')[0])\n",
    "\n",
    "#Norm grid lines\n",
    "for index in range((ngrid+1)*2):\n",
    "    lobj = ax1.plot([],[],lw=.5,color='g')[0]\n",
    "    lines.append(lobj)\n",
    "#norm circle\n",
    "lines.append(ax1.plot([],[],lw=1,color='r')[0])\n",
    "\n",
    "    \n",
    "def init():\n",
    "    for line in lines:\n",
    "        line.set_data([],[])\n",
    "    return lines\n",
    "\n",
    "def animate(i):\n",
    "    iangle = 20-i\n",
    "    skew = np.array([[np.cos(np.radians(iangle)),np.sin(np.radians(iangle))],\n",
    "                     [np.sin(np.radians(iangle)),np.cos(np.radians(iangle))]])\n",
    "    u = np.array([-1,1])\n",
    "    xlist = []\n",
    "    ylist = []\n",
    "    \n",
    "    p = (np.arange(ngrid+1)-ngrid/2.)*2./ngrid\n",
    "\n",
    "    for j in p:\n",
    "        v = np.array([j,j])\n",
    "        x1 = u*skew[0,0]+v*skew[0,1]\n",
    "        y1 = u*skew[1,0]+v*skew[1,1]\n",
    "        xlist.append(x1)\n",
    "        ylist.append(y1)\n",
    "        x2 = v*skew[0,0]+u*skew[0,1]\n",
    "        y2 = v*skew[1,0]+u*skew[1,1]\n",
    "        xlist.append(x2)\n",
    "        ylist.append(y2)\n",
    "\n",
    "    \n",
    "    xlist.append(xunit*skew[0,0]+yunit*skew[0,1])\n",
    "    ylist.append(xunit*skew[1,0]+yunit*skew[1,1])\n",
    "   \n",
    "    \n",
    "    for j in p:\n",
    "        v = np.array([j,j])\n",
    "        xlist.append(u)\n",
    "        ylist.append(v)\n",
    "        xlist.append(v)\n",
    "        ylist.append(u)\n",
    "    xlist.append(xunit)\n",
    "    ylist.append(yunit)\n",
    "    \n",
    "    for lnum,line in enumerate(lines):\n",
    "        line.set_data(xlist[lnum], ylist[lnum]) # set data for each line separately. \n",
    "    return line,\n",
    "\n",
    "anim = animation.FuncAnimation(fig, animate, init_func=init,\n",
    "                               frames=20, interval=100, blit=True)\n",
    "\n",
    "HTML(anim.to_html5_video())\n",
    "\n",
    "plt.clf()"
   ]
  },
  {
   "cell_type": "markdown",
   "metadata": {},
   "source": [
    "## 2-Axis Soft Iron Correction\n",
    "\n",
    "Animation with multiple lines plotted within the animation function."
   ]
  },
  {
   "cell_type": "code",
   "execution_count": 5,
   "metadata": {
    "collapsed": false
   },
   "outputs": [],
   "source": [
    "# create data\n",
    "ngrid = 4\n",
    "npts = 1000\n",
    "x_noise = np.random.normal(0,0.01,npts)\n",
    "y_noise = np.random.normal(0,0.01,npts)\n",
    "rad = np.arange(npts)*2*np.pi/(npts-1)\n",
    "xunit = np.cos(rad)\n",
    "yunit = np.sin(rad)\n",
    "x = np.cos(rad)+x_noise\n",
    "y = np.sin(rad)+y_noise\n",
    "\n",
    "# initialization function\n",
    "fig = plt.figure()\n",
    "lines = []\n",
    "def init():\n",
    "    plt.axes(xlim=(-1.5,1.5), ylim=(-1.5,1.5), aspect='equal')\n",
    "    iangle = 10\n",
    "    skew = np.array([[np.cos(np.radians(iangle)),np.sin(np.radians(iangle))],\n",
    "                     [np.sin(np.radians(iangle)),np.cos(np.radians(iangle))]])\n",
    "    u = np.array([-1,1])\n",
    "    lw = 0.3\n",
    "    for j in p:\n",
    "        r = np.array([j,j])\n",
    "        plt.plot(q,r,color='g',linewidth=lw)\n",
    "        plt.plot(r,q,color='g',linewidth=lw)\n",
    "        plt.plot(q*skew[0,0]+r*skew[0,1],q*skew[1,0]+r*skew[1,1],color='b',linewidth=lw)\n",
    "        plt.plot(r*skew[0,0]+q*skew[0,1],r*skew[1,0]+q*skew[1,1],color='b',linewidth=lw)\n",
    "\n",
    "    plt.scatter(x*skew[0,0]+y*skew[0,1],x*skew[1,0]+y*skew[1,1],s=.3,color='b')\n",
    "    plt.plot(xunit,yunit,color='r')\n",
    "    return lines\n",
    "\n",
    "# animation function\n",
    "def animate(i):\n",
    "    if i>10 and i<=50:\n",
    "        plt.clf()\n",
    "        plt.axes(xlim=(-1.5,1.5), ylim=(-1.5,1.5), aspect='equal')\n",
    "        iangle = 10-(i-10)*.25\n",
    "        skew = np.array([[np.cos(np.radians(iangle)),np.sin(np.radians(iangle))],\n",
    "                         [np.sin(np.radians(iangle)),np.cos(np.radians(iangle))]])\n",
    "        u = np.array([-1,1])\n",
    "        lw = 0.3\n",
    "        for j in p:\n",
    "            r = np.array([j,j])\n",
    "            plt.plot(q,r,color='g',linewidth=lw)\n",
    "            plt.plot(r,q,color='g',linewidth=lw)\n",
    "            plt.plot(q*skew[0,0]+r*skew[0,1],q*skew[1,0]+r*skew[1,1],color='b',linewidth=lw)\n",
    "            plt.plot(r*skew[0,0]+q*skew[0,1],r*skew[1,0]+q*skew[1,1],color='b',linewidth=lw)\n",
    "\n",
    "        plt.scatter(x*skew[0,0]+y*skew[0,1],x*skew[1,0]+y*skew[1,1],s=.3,color='b')\n",
    "        plt.plot(xunit,yunit,color='r')\n",
    "    return lines\n",
    "\n",
    "# animator        \n",
    "anim = animation.FuncAnimation(fig, animate, init_func=init,\n",
    "                               frames=70, interval=70, blit=True)\n",
    "#filename = \n",
    "#anim.save('/Users/andrew/Desktop/deskew.mp4', dpi=350)\n",
    "HTML(anim.to_html5_video())\n",
    "\n",
    "plt.clf()"
   ]
  },
  {
   "cell_type": "markdown",
   "metadata": {
    "collapsed": false
   },
   "source": [
    "<table class=\"image\">\n",
    "<tr><td><img src=\"https://zippy.gfycat.com/KindMediocreAustralianfreshwatercrocodile.gif\" /></td></tr>\n",
    "</table>"
   ]
  },
  {
   "cell_type": "markdown",
   "metadata": {},
   "source": [
    "## Transform Matrices"
   ]
  },
  {
   "cell_type": "code",
   "execution_count": 6,
   "metadata": {
    "collapsed": true
   },
   "outputs": [],
   "source": [
    "def transform(trans_mat):\n",
    "    lw = 0.3\n",
    "    for i in p:\n",
    "        r = np.array([i,i])\n",
    "        plt.plot(q,r,color='g',linewidth=lw)\n",
    "        plt.plot(r,q,color='g',linewidth=lw)\n",
    "        plt.plot(q*trans_mat[0,0]+r*trans_mat[0,1],q*trans_mat[1,0]+r*trans_mat[1,1],color='b',linewidth=lw)\n",
    "        plt.plot(r*trans_mat[0,0]+q*trans_mat[0,1],r*trans_mat[1,0]+q*trans_mat[1,1],color='b',linewidth=lw)\n",
    "\n",
    "    plt.plot(xunit,yunit,color='g',linewidth=1.5)\n",
    "    xskew = xunit*trans_mat[0,0]+yunit*trans_mat[0,1]\n",
    "    yskew = xunit*trans_mat[1,0]+yunit*trans_mat[1,1]\n",
    "    plt.plot(xskew,yskew,color='b',linewidth=1.5)\n",
    "    plt.axis('equal')\n",
    "    plt.show()\n"
   ]
  },
  {
   "cell_type": "markdown",
   "metadata": {},
   "source": [
    "### Rotation Matrix"
   ]
  },
  {
   "cell_type": "markdown",
   "metadata": {},
   "source": [
    "$$\n",
    "R(\\theta) = \\left( \\begin{array}{cc}\n",
    "\\cos\\theta & -\\sin\\theta \\\\\n",
    "\\sin\\theta & \\cos\\theta \\end{array} \\right)\\\\\n",
    "$$"
   ]
  },
  {
   "cell_type": "code",
   "execution_count": 7,
   "metadata": {
    "collapsed": false
   },
   "outputs": [
    {
     "data": {
      "text/plain": [
       "<matplotlib.figure.Figure at 0x10ba82710>"
      ]
     },
     "metadata": {},
     "output_type": "display_data"
    },
    {
     "data": {
      "image/png": "[encoded data removed]",
      "text/plain": [
       "<matplotlib.figure.Figure at 0x10ba10690>"
      ]
     },
     "metadata": {},
     "output_type": "display_data"
    }
   ],
   "source": [
    "angle = np.radians(30)\n",
    "skew = np.array([[np.cos(angle),-np.sin(angle)],\n",
    "                 [np.sin(angle),np.cos(angle)]])\n",
    "\n",
    "transform(skew)\n"
   ]
  },
  {
   "cell_type": "markdown",
   "metadata": {},
   "source": [
    "### Symmetric Matrix"
   ]
  },
  {
   "cell_type": "markdown",
   "metadata": {},
   "source": [
    "$$\n",
    "R(\\theta) = \\left( \\begin{array}{cc}\n",
    "\\cos\\theta & \\sin\\theta \\\\\n",
    "\\sin\\theta & \\cos\\theta \\end{array} \\right)\\\\\n",
    "$$"
   ]
  },
  {
   "cell_type": "code",
   "execution_count": 8,
   "metadata": {
    "collapsed": false
   },
   "outputs": [
    {
     "data": {
      "image/png": "[encoded data removed]",
      "text/plain": [
       "<matplotlib.figure.Figure at 0x10ba3d750>"
      ]
     },
     "metadata": {},
     "output_type": "display_data"
    }
   ],
   "source": [
    "angle = np.radians(20)\n",
    "skew = np.array([[np.cos(angle),np.sin(angle)],\n",
    "                 [np.sin(angle),np.cos(angle)]])\n",
    "\n",
    "transform(skew)\n"
   ]
  },
  {
   "cell_type": "markdown",
   "metadata": {},
   "source": [
    "## 3-Axis Hard Iron Correction"
   ]
  },
  {
   "cell_type": "code",
   "execution_count": 9,
   "metadata": {
    "collapsed": true
   },
   "outputs": [],
   "source": [
    "# load some test data for demonstration and plot a wireframe\n",
    "x3, y3, z3 = np.genfromtxt(\"https://raw.githubusercontent.com/andrewkruger/Magnetometer_calibration/master/3d_soft.txt\", unpack=True)\n",
    "u = np.linspace(0, 2 * np.pi, 21)\n",
    "v = np.linspace(0, np.pi, 15)\n",
    "xs = np.outer(np.cos(u), np.sin(v))\n",
    "ys = np.outer(np.sin(u), np.sin(v))\n",
    "zs = np.outer(np.ones(np.size(u)), np.cos(v))\n"
   ]
  },
  {
   "cell_type": "code",
   "execution_count": 10,
   "metadata": {
    "collapsed": false
   },
   "outputs": [],
   "source": [
    "# 3-axis hard iron and gain calibration\n",
    "def calc_params3(xc, yc, zc, xm, ym, zm):\n",
    "    return (((x3-xc)/xm)**2 + ((y3-yc)/ym)**2 + ((z3-zc)/zm)**2)    \n",
    "    \n",
    "def lq_function3(c):\n",
    "    fit = calc_params3(*c)\n",
    "    return fit - 1\n",
    "\n",
    "# parameter estimates\n",
    "x3_cen = (x3.max()+x3.min())/2.\n",
    "y3_cen = (y3.max()+y3.min())/2.\n",
    "z3_cen = (z3.max()+z3.min())/2.\n",
    "x3_mag = (x3.max()-x3.min())/2.\n",
    "y3_mag = (y3.max()-y3.min())/2.\n",
    "z3_mag = (z3.max()-z3.min())/2.\n",
    "\n",
    "# fit data\n",
    "params3_estimate = x3_cen, y3_cen, z3_cen, x3_mag, y3_mag, z3_mag\n",
    "params3, ier = optimize.leastsq(lq_function3, params3_estimate)\n",
    "xc_3, yc_3, zc_3, xm_3, ym_3, zm_3 = params3\n",
    "\n",
    "# calibrate data\n",
    "x3_hcal = (x3-xc_3)/xm_3\n",
    "y3_hcal = (y3-yc_3)/ym_3\n",
    "z3_hcal = (z3-zc_3)/zm_3\n",
    "\n",
    "# plot\n",
    "fig = plt.figure()\n",
    "ax = fig.add_subplot(111, projection='3d', axisbg = 'white')\n",
    "ax._axis3don = False\n",
    "fig.tight_layout(pad=-10)\n",
    "\n",
    "ax.set_aspect('equal')\n",
    "ax.autoscale_view(tight=True)\n",
    "ax.scatter(x3_hcal, y3_hcal, z3_hcal, s=1, color='b')\n",
    "ax.plot_surface(xs, ys, zs, rstride=1, cstride=1, color='b', alpha=0.08)\n",
    "\n",
    "# initialization function\n",
    "def init():\n",
    "    return ()\n",
    "\n",
    "# animation function\n",
    "def animate(i):\n",
    "    print i\n",
    "    ax.view_init(np.sin(i*np.pi/100)*30, i*3.6/2)\n",
    "    return ()\n",
    "\n",
    "# animator\n",
    "anim = animation.FuncAnimation(fig, animate, init_func=init,\n",
    "                               frames=200, interval=70, blit=True)\n",
    "\n",
    "#filename = \n",
    "#anim.save(filename, dpi=350)\n",
    "#HTML(anim.to_html5_video())\n",
    "plt.clf()"
   ]
  },
  {
   "cell_type": "markdown",
   "metadata": {
    "collapsed": false
   },
   "source": [
    "<table class=\"image\">\n",
    "<tr><td><img src=\"https://giant.gfycat.com/PolishedTemptingGopher.gif\" /></td></tr>\n",
    "</table>"
   ]
  },
  {
   "cell_type": "markdown",
   "metadata": {},
   "source": [
    "## 3-Axis Soft Iron Correction"
   ]
  },
  {
   "cell_type": "code",
   "execution_count": 11,
   "metadata": {
    "collapsed": false
   },
   "outputs": [],
   "source": [
    "# 3-axis symmetric matrix calibration function\n",
    "def calc_params3_soft(x_ct, y_ct, z_ct, x_mt, y_mt, z_mt, xy_mt, xz_mt, yz_mt):\n",
    "    xcen, ycen, zcen = x3-x_ct, y3-y_ct, z3-z_ct\n",
    "    xscale = xcen*x_mt+ycen*xy_mt+zcen*xz_mt\n",
    "    yscale = xcen*xy_mt+ycen*y_mt+zcen*yz_mt\n",
    "    zscale = xcen*xz_mt+ycen*yz_mt+zcen*z_mt\n",
    "    return np.sqrt(xscale**2+yscale**2+zscale**2)\n",
    "    \n",
    "def lq_function3_soft(c):\n",
    "    fit = calc_params3_soft(*c)\n",
    "    return fit - 1\n",
    "\n",
    "params3_est_soft = x3_cen, y3_cen, z3_cen, 1/x3_mag, 1/y3_mag, 1/z3_mag, .0001, .0001, .0001\n",
    "params3, ier = optimize.leastsq(lq_function3_soft, params3_est_soft)\n",
    "xc_3, yc_3, zc_3, xm_3, ym_3, zm_3, xym, xzm, yzm = params3\n",
    "\n",
    "# results from fit\n",
    "m = np.array([[xm_3, xym, xzm],\n",
    "              [xym, ym_3, yzm],\n",
    "              [xzm, yzm, zm_3]])\n",
    "A = np.linalg.inv(m)\n",
    "\n",
    "# calibrate data\n",
    "x3cen = (x3-xc_3)\n",
    "y3cen = (y3-yc_3)\n",
    "z3cen = (z3-zc_3)\n",
    "x3_scal = x3cen*m[0][0]+y3cen*m[0][1]+z3cen*m[0][2]\n",
    "y3_scal = x3cen*m[1][0]+y3cen*m[1][1]+z3cen*m[1][2]\n",
    "z3_scal = x3cen*m[2][0]+y3cen*m[2][1]+z3cen*m[2][2]\n",
    "\n",
    "# plot\n",
    "fig = plt.figure()\n",
    "ax = fig.add_subplot(111, projection='3d', axisbg = 'white')\n",
    "ax._axis3don = False\n",
    "fig.tight_layout(pad=-10)\n",
    "\n",
    "ax.set_aspect('equal')\n",
    "ax.autoscale_view(tight=True)\n",
    "ax.scatter(x3_scal, y3_scal, z3_scal, s=1, color='b')\n",
    "ax.plot_surface(xs, ys, zs, rstride=1, cstride=1, color='b', alpha=0.08)\n",
    "\n",
    "# initialization function\n",
    "def init():\n",
    "    return ()\n",
    "\n",
    "# animation function\n",
    "def animate(i):\n",
    "    ax.view_init(np.sin(i*np.pi/100)*30, i*3.6/2)\n",
    "    return ()\n",
    "\n",
    "# animator\n",
    "anim = animation.FuncAnimation(fig, animate, init_func=init,\n",
    "                               frames=200, interval=50, blit=True)\n",
    "\n",
    "#filename = \n",
    "#anim.save(filename, dpi=350)\n",
    "#HTML(anim.to_html5_video())\n",
    "plt.clf()"
   ]
  },
  {
   "cell_type": "markdown",
   "metadata": {
    "collapsed": false
   },
   "source": [
    "<table class=\"image\">\n",
    "<tr><td><img src=\"https://giant.gfycat.com/ImpossibleDeepDobermanpinscher.gif\" /></td></tr>\n",
    "</table>"
   ]
  }
 ],
 "metadata": {
  "anaconda-cloud": {},
  "kernelspec": {
   "display_name": "Python [default]",
   "language": "python",
   "name": "python2"
  },
  "language_info": {
   "codemirror_mode": {
    "name": "ipython",
    "version": 2
   },
   "file_extension": ".py",
   "mimetype": "text/x-python",
   "name": "python",
   "nbconvert_exporter": "python",
   "pygments_lexer": "ipython2",
   "version": "2.7.12"
  }
 },
 "nbformat": 4,
 "nbformat_minor": 1
}
